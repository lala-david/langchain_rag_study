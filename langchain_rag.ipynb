{
  "nbformat": 4,
  "nbformat_minor": 0,
  "metadata": {
    "colab": {
      "provenance": [],
      "authorship_tag": "ABX9TyM03azsawuaKaYzR0E49xBa",
      "include_colab_link": true
    },
    "kernelspec": {
      "name": "python3",
      "display_name": "Python 3"
    },
    "language_info": {
      "name": "python"
    }
  },
  "cells": [
    {
      "cell_type": "markdown",
      "metadata": {
        "id": "view-in-github",
        "colab_type": "text"
      },
      "source": [
        "<a href=\"https://colab.research.google.com/github/lala-david/langchain_rag_study/blob/main/langchain_rag.ipynb\" target=\"_parent\"><img src=\"https://colab.research.google.com/assets/colab-badge.svg\" alt=\"Open In Colab\"/></a>"
      ]
    },
    {
      "cell_type": "code",
      "source": [
        "!pip install -q langchain langchain-openai tiktoken chromadb\n"
      ],
      "metadata": {
        "colab": {
          "base_uri": "https://localhost:8080/"
        },
        "id": "Rw228P4VCuD4",
        "outputId": "49559a18-6cfd-4b8a-9b99-2f50412f407e"
      },
      "execution_count": 1,
      "outputs": [
        {
          "output_type": "stream",
          "name": "stdout",
          "text": [
            "\u001b[2K     \u001b[90m━━━━━━━━━━━━━━━━━━━━━━━━━━━━━━━━━━━━━━━━\u001b[0m \u001b[32m817.7/817.7 kB\u001b[0m \u001b[31m5.5 MB/s\u001b[0m eta \u001b[36m0:00:00\u001b[0m\n",
            "\u001b[2K     \u001b[90m━━━━━━━━━━━━━━━━━━━━━━━━━━━━━━━━━━━━━━━━\u001b[0m \u001b[32m1.8/1.8 MB\u001b[0m \u001b[31m13.3 MB/s\u001b[0m eta \u001b[36m0:00:00\u001b[0m\n",
            "\u001b[2K     \u001b[90m━━━━━━━━━━━━━━━━━━━━━━━━━━━━━━━━━━━━━━━━\u001b[0m \u001b[32m525.5/525.5 kB\u001b[0m \u001b[31m13.8 MB/s\u001b[0m eta \u001b[36m0:00:00\u001b[0m\n",
            "\u001b[2K     \u001b[90m━━━━━━━━━━━━━━━━━━━━━━━━━━━━━━━━━━━━━━━━\u001b[0m \u001b[32m1.9/1.9 MB\u001b[0m \u001b[31m23.3 MB/s\u001b[0m eta \u001b[36m0:00:00\u001b[0m\n",
            "\u001b[2K     \u001b[90m━━━━━━━━━━━━━━━━━━━━━━━━━━━━━━━━━━━━━━━━\u001b[0m \u001b[32m287.5/287.5 kB\u001b[0m \u001b[31m17.2 MB/s\u001b[0m eta \u001b[36m0:00:00\u001b[0m\n",
            "\u001b[2K     \u001b[90m━━━━━━━━━━━━━━━━━━━━━━━━━━━━━━━━━━━━━━━━\u001b[0m \u001b[32m113.0/113.0 kB\u001b[0m \u001b[31m6.2 MB/s\u001b[0m eta \u001b[36m0:00:00\u001b[0m\n",
            "\u001b[2K     \u001b[90m━━━━━━━━━━━━━━━━━━━━━━━━━━━━━━━━━━━━━━━━\u001b[0m \u001b[32m268.3/268.3 kB\u001b[0m \u001b[31m13.2 MB/s\u001b[0m eta \u001b[36m0:00:00\u001b[0m\n",
            "\u001b[2K     \u001b[90m━━━━━━━━━━━━━━━━━━━━━━━━━━━━━━━━━━━━━━━━\u001b[0m \u001b[32m2.4/2.4 MB\u001b[0m \u001b[31m19.9 MB/s\u001b[0m eta \u001b[36m0:00:00\u001b[0m\n",
            "\u001b[2K     \u001b[90m━━━━━━━━━━━━━━━━━━━━━━━━━━━━━━━━━━━━━━━━\u001b[0m \u001b[32m91.9/91.9 kB\u001b[0m \u001b[31m6.1 MB/s\u001b[0m eta \u001b[36m0:00:00\u001b[0m\n",
            "\u001b[2K     \u001b[90m━━━━━━━━━━━━━━━━━━━━━━━━━━━━━━━━━━━━━━━━\u001b[0m \u001b[32m60.8/60.8 kB\u001b[0m \u001b[31m1.2 MB/s\u001b[0m eta \u001b[36m0:00:00\u001b[0m\n",
            "\u001b[2K     \u001b[90m━━━━━━━━━━━━━━━━━━━━━━━━━━━━━━━━━━━━━━━━\u001b[0m \u001b[32m41.3/41.3 kB\u001b[0m \u001b[31m2.2 MB/s\u001b[0m eta \u001b[36m0:00:00\u001b[0m\n",
            "\u001b[2K     \u001b[90m━━━━━━━━━━━━━━━━━━━━━━━━━━━━━━━━━━━━━━━━\u001b[0m \u001b[32m5.4/5.4 MB\u001b[0m \u001b[31m39.5 MB/s\u001b[0m eta \u001b[36m0:00:00\u001b[0m\n",
            "\u001b[2K     \u001b[90m━━━━━━━━━━━━━━━━━━━━━━━━━━━━━━━━━━━━━━━━\u001b[0m \u001b[32m6.8/6.8 MB\u001b[0m \u001b[31m56.7 MB/s\u001b[0m eta \u001b[36m0:00:00\u001b[0m\n",
            "\u001b[2K     \u001b[90m━━━━━━━━━━━━━━━━━━━━━━━━━━━━━━━━━━━━━━━━\u001b[0m \u001b[32m60.1/60.1 kB\u001b[0m \u001b[31m5.8 MB/s\u001b[0m eta \u001b[36m0:00:00\u001b[0m\n",
            "\u001b[2K     \u001b[90m━━━━━━━━━━━━━━━━━━━━━━━━━━━━━━━━━━━━━━━━\u001b[0m \u001b[32m106.1/106.1 kB\u001b[0m \u001b[31m9.7 MB/s\u001b[0m eta \u001b[36m0:00:00\u001b[0m\n",
            "\u001b[2K     \u001b[90m━━━━━━━━━━━━━━━━━━━━━━━━━━━━━━━━━━━━━━━━\u001b[0m \u001b[32m67.3/67.3 kB\u001b[0m \u001b[31m5.9 MB/s\u001b[0m eta \u001b[36m0:00:00\u001b[0m\n",
            "\u001b[?25h  Installing build dependencies ... \u001b[?25l\u001b[?25hdone\n",
            "  Getting requirements to build wheel ... \u001b[?25l\u001b[?25hdone\n",
            "  Preparing metadata (pyproject.toml) ... \u001b[?25l\u001b[?25hdone\n",
            "\u001b[2K     \u001b[90m━━━━━━━━━━━━━━━━━━━━━━━━━━━━━━━━━━━━━━━━\u001b[0m \u001b[32m698.9/698.9 kB\u001b[0m \u001b[31m39.0 MB/s\u001b[0m eta \u001b[36m0:00:00\u001b[0m\n",
            "\u001b[2K     \u001b[90m━━━━━━━━━━━━━━━━━━━━━━━━━━━━━━━━━━━━━━━━\u001b[0m \u001b[32m1.6/1.6 MB\u001b[0m \u001b[31m62.5 MB/s\u001b[0m eta \u001b[36m0:00:00\u001b[0m\n",
            "\u001b[2K     \u001b[90m━━━━━━━━━━━━━━━━━━━━━━━━━━━━━━━━━━━━━━━━\u001b[0m \u001b[32m67.6/67.6 kB\u001b[0m \u001b[31m5.6 MB/s\u001b[0m eta \u001b[36m0:00:00\u001b[0m\n",
            "\u001b[2K     \u001b[90m━━━━━━━━━━━━━━━━━━━━━━━━━━━━━━━━━━━━━━━━\u001b[0m \u001b[32m144.8/144.8 kB\u001b[0m \u001b[31m5.2 MB/s\u001b[0m eta \u001b[36m0:00:00\u001b[0m\n",
            "\u001b[2K     \u001b[90m━━━━━━━━━━━━━━━━━━━━━━━━━━━━━━━━━━━━━━━━\u001b[0m \u001b[32m49.4/49.4 kB\u001b[0m \u001b[31m3.6 MB/s\u001b[0m eta \u001b[36m0:00:00\u001b[0m\n",
            "\u001b[2K     \u001b[90m━━━━━━━━━━━━━━━━━━━━━━━━━━━━━━━━━━━━━━━━\u001b[0m \u001b[32m71.9/71.9 kB\u001b[0m \u001b[31m7.0 MB/s\u001b[0m eta \u001b[36m0:00:00\u001b[0m\n",
            "\u001b[2K     \u001b[90m━━━━━━━━━━━━━━━━━━━━━━━━━━━━━━━━━━━━━━━━\u001b[0m \u001b[32m53.0/53.0 kB\u001b[0m \u001b[31m3.7 MB/s\u001b[0m eta \u001b[36m0:00:00\u001b[0m\n",
            "\u001b[2K     \u001b[90m━━━━━━━━━━━━━━━━━━━━━━━━━━━━━━━━━━━━━━━━\u001b[0m \u001b[32m46.0/46.0 kB\u001b[0m \u001b[31m3.9 MB/s\u001b[0m eta \u001b[36m0:00:00\u001b[0m\n",
            "\u001b[2K     \u001b[90m━━━━━━━━━━━━━━━━━━━━━━━━━━━━━━━━━━━━━━━━\u001b[0m \u001b[32m75.6/75.6 kB\u001b[0m \u001b[31m6.7 MB/s\u001b[0m eta \u001b[36m0:00:00\u001b[0m\n",
            "\u001b[2K     \u001b[90m━━━━━━━━━━━━━━━━━━━━━━━━━━━━━━━━━━━━━━━━\u001b[0m \u001b[32m50.8/50.8 kB\u001b[0m \u001b[31m4.3 MB/s\u001b[0m eta \u001b[36m0:00:00\u001b[0m\n",
            "\u001b[2K     \u001b[90m━━━━━━━━━━━━━━━━━━━━━━━━━━━━━━━━━━━━━━━━\u001b[0m \u001b[32m58.3/58.3 kB\u001b[0m \u001b[31m6.9 MB/s\u001b[0m eta \u001b[36m0:00:00\u001b[0m\n",
            "\u001b[2K     \u001b[90m━━━━━━━━━━━━━━━━━━━━━━━━━━━━━━━━━━━━━━━━\u001b[0m \u001b[32m341.4/341.4 kB\u001b[0m \u001b[31m35.4 MB/s\u001b[0m eta \u001b[36m0:00:00\u001b[0m\n",
            "\u001b[2K     \u001b[90m━━━━━━━━━━━━━━━━━━━━━━━━━━━━━━━━━━━━━━━━\u001b[0m \u001b[32m3.4/3.4 MB\u001b[0m \u001b[31m85.8 MB/s\u001b[0m eta \u001b[36m0:00:00\u001b[0m\n",
            "\u001b[2K     \u001b[90m━━━━━━━━━━━━━━━━━━━━━━━━━━━━━━━━━━━━━━━━\u001b[0m \u001b[32m1.3/1.3 MB\u001b[0m \u001b[31m72.4 MB/s\u001b[0m eta \u001b[36m0:00:00\u001b[0m\n",
            "\u001b[2K     \u001b[90m━━━━━━━━━━━━━━━━━━━━━━━━━━━━━━━━━━━━━━━━\u001b[0m \u001b[32m130.2/130.2 kB\u001b[0m \u001b[31m16.5 MB/s\u001b[0m eta \u001b[36m0:00:00\u001b[0m\n",
            "\u001b[2K     \u001b[90m━━━━━━━━━━━━━━━━━━━━━━━━━━━━━━━━━━━━━━━━\u001b[0m \u001b[32m77.9/77.9 kB\u001b[0m \u001b[31m9.7 MB/s\u001b[0m eta \u001b[36m0:00:00\u001b[0m\n",
            "\u001b[2K     \u001b[90m━━━━━━━━━━━━━━━━━━━━━━━━━━━━━━━━━━━━━━━━\u001b[0m \u001b[32m86.8/86.8 kB\u001b[0m \u001b[31m12.1 MB/s\u001b[0m eta \u001b[36m0:00:00\u001b[0m\n",
            "\u001b[?25h  Building wheel for pypika (pyproject.toml) ... \u001b[?25l\u001b[?25hdone\n"
          ]
        }
      ]
    },
    {
      "cell_type": "code",
      "source": [
        "import langchain\n",
        "\n",
        "langchain.__version__"
      ],
      "metadata": {
        "colab": {
          "base_uri": "https://localhost:8080/",
          "height": 35
        },
        "id": "GGSWuH2TCwXN",
        "outputId": "7cc8eb00-52d3-41e0-db7b-e36bc72d76c4"
      },
      "execution_count": 3,
      "outputs": [
        {
          "output_type": "execute_result",
          "data": {
            "text/plain": [
              "'0.1.16'"
            ],
            "application/vnd.google.colaboratory.intrinsic+json": {
              "type": "string"
            }
          },
          "metadata": {},
          "execution_count": 3
        }
      ]
    },
    {
      "cell_type": "code",
      "source": [
        "\n",
        "import os\n",
        "\n",
        "os.environ['OPENAI_API_KEY'] = 'OPENAI_API_KEY'\n",
        ""
      ],
      "metadata": {
        "id": "LhXjQ6_HC98I"
      },
      "execution_count": 4,
      "outputs": []
    },
    {
      "cell_type": "markdown",
      "source": [
        "## **RAG 파이프라인 개요**"
      ],
      "metadata": {
        "id": "tqIPuNggDGnB"
      }
    },
    {
      "cell_type": "markdown",
      "source": [
        "**Step 1️⃣: Load Data**"
      ],
      "metadata": {
        "id": "RIoxZfQ2EFYB"
      }
    },
    {
      "cell_type": "code",
      "source": [
        "# Data Loader - 웹페이지 데이터 가져오기\n",
        "from langchain_community.document_loaders import WebBaseLoader\n",
        "\n",
        "# 에스파\n",
        "url = 'https://ko.wikipedia.org/wiki/Aespa'\n",
        "loader = WebBaseLoader(url)\n",
        "\n",
        "# 웹페이지 텍스트 -> Documents\n",
        "docs = loader.load()\n",
        "\n",
        "print(len(docs))\n",
        "print(len(docs[0].page_content))\n",
        "print(docs[0].page_content[5000:6000])"
      ],
      "metadata": {
        "colab": {
          "base_uri": "https://localhost:8080/"
        },
        "id": "ZdSYX9SWDL5H",
        "outputId": "d72d13c3-34ba-4d00-a994-0662022adc82"
      },
      "execution_count": 55,
      "outputs": [
        {
          "output_type": "stream",
          "name": "stdout",
          "text": [
            "1\n",
            "19598\n",
            "\n",
            "\n",
            "\n",
            "닝닝\n",
            "\n",
            "\n",
            "본명 : 宁艺卓 (닝이줘, Níng Yìzhuó)\n",
            "생년월일 : 2002년 10월 23일(2002-10-23)(21세)\n",
            "출생지 : 중화인민공화국 헤이룽장성 하얼빈시\n",
            "활동기간 : 2020년 11월 17일 ~\n",
            "포지션 :\n",
            "\n",
            "\n",
            "음반[편집]\n",
            "정규[편집]\n",
            "《미정》 (2024년 5월)\n",
            "EP[편집]\n",
            "《Savage》 (2021년 10월 5일)\n",
            "《Girls》 (2022년 7월 8일)\n",
            "《My World》 (2023년 5월 8일)\n",
            "《Drama》 (2023년 11월 10일)\n",
            "디지털 싱글[편집]\n",
            "《Black Mamba》 (2020년 11월 17일)\n",
            "《Forever (약속)》 (2021년 2월 5일)\n",
            "《Next Level》 (2021년 5월 17일)\n",
            "《Life's Too Short》 (2022년 6월 24일)\n",
            "《Better Things》 (2023년 8월 18일)\n",
            "《시대유감》 (2024년 1월 15일)\n",
            "참여 음반[편집]\n",
            "《Dreams Come True》 (2021년 12월 20일)\n",
            "노래방 수록[편집]\n",
            "\n",
            "\n",
            "곡명\n",
            "번호\n",
            "\n",
            "\n",
            "금영\n",
            "태진\n",
            "JW 엔터테인먼트\n",
            "\n",
            "\n",
            "Black Mamba\n",
            "\n",
            "22347\n",
            "75957\n",
            "59322\n",
            "\n",
            "\n",
            "Forever (약속)\n",
            "\n",
            "23018\n",
            "76375\n",
            "\n",
            "\n",
            "\n",
            "Next Level\n",
            "\n",
            "23009\n",
            "76842\n",
            "50152\n",
            "\n",
            "\n",
            "Next Level (Habstrakt Remix)\n",
            "\n",
            "23255\n",
            "80438\n",
            "\n",
            "\n",
            "\n",
            "aenergy\n",
            "\n",
            "\n",
            "80528\n",
            "\n",
            "\n",
            "\n",
            "Savage\n",
            "\n",
            "28593\n",
            "80527\n",
            "\n",
            "\n",
            "\n",
            "YEPPI YEPPI\n",
            "\n",
            "\n",
            "80533\n",
            "\n",
            "\n",
            "\n",
            "ICONIC\n",
            "\n",
            "\n",
            "80574\n",
            "\n",
            "\n",
            "\n",
            "자각몽 (Lucid Dream)\n",
            "\n",
            "\n",
            "80534\n",
            "\n",
            "\n",
            "\n",
            "음반 외 목록[편집]\n",
            "예능[편집]\n",
            "MBC every1 《주간 아이돌》 - 2021년 5월 26일 방송분 출연\n",
            "JTBC 《아는 형님》 - 2021년 6월 5일 방송분 출연\n",
            "tvN 《놀라운 토요일》 - 2021년 10월 9일 방송분 출연 (카리나, 윈터)\n",
            "JTBC 《아는 형님》 - 2021년 10월 23일 방송분 출연\n",
            "JTBC 《K-909》 - 2023년 5월 13일 방송분 출연\n",
            "JTBC 《\n"
          ]
        }
      ]
    },
    {
      "cell_type": "markdown",
      "source": [
        "**Step 2️⃣: Split texts**"
      ],
      "metadata": {
        "id": "857na8YeEQvI"
      }
    },
    {
      "cell_type": "code",
      "source": [
        "# Text Split (Documents -> small chunks: Documents)\n",
        "from langchain.text_splitter import RecursiveCharacterTextSplitter\n",
        "\n",
        "text_splitter = RecursiveCharacterTextSplitter(chunk_size=1000, chunk_overlap=200)\n",
        "splits = text_splitter.split_documents(docs)\n",
        "\n",
        "print(len(splits))\n",
        "print(splits[10])"
      ],
      "metadata": {
        "colab": {
          "base_uri": "https://localhost:8080/"
        },
        "id": "nw64H9-dDjC4",
        "outputId": "9f083ed2-4543-434d-acd3-ee4d4a505425"
      },
      "execution_count": 57,
      "outputs": [
        {
          "output_type": "stream",
          "name": "stdout",
          "text": [
            "28\n",
            "page_content='본상\\n\\n수상\\n\\n\\n대한민국 퍼스트브랜드 대상\\n\\n여자아이돌 부문\\n\\n수상\\n\\n\\n써클차트 뮤직 어워즈\\n\\n유니크 리스너 부문 올해의 가수상\\n\\n수상\\n\\n\\n31주년 한터뮤직어워즈 2023\\n\\n글로벌 제너레이션상\\n\\n수상\\n\\n\\n베스트 트렌드 리더상\\n\\n수상\\n\\n\\n올해의 아티스트 본상\\n\\n수상\\n\\n가요 프로그램 1위[편집]\\n\\n\\n연도\\n\\n수상 내역 (총 18회)\\n\\n\\n2021년 (총 9회)\\n\\n\\nBlack Mamba (총 1회)\\n1월 17일 SBS 《SBS 인기가요》 1위\\nSavage (총 8회)\\n10월 13일 MBC M 《쇼 챔피언》 챔피언 송\\n10월 15일 KBS2 《뮤직뱅크》 K-Chart 1위\\n10월 16일 MBC 《쇼! 음악중심》 1위\\n10월 17일 SBS 《SBS 인기가요》 1위\\n10월 23일 MBC 《쇼! 음악중심》 1위 (2주 연속)\\n10월 24일 SBS 《SBS 인기가요》 1위 (2주 연속)\\n10월 26일 SBS MTV 《더 쇼》 더 쇼 초이스\\n12월 5일 SBS 《SBS 인기가요》 1위 (트리플 크라운)\\n\\n\\n2022년 (총 2회)\\n\\n\\nGirls (총 2회)\\n7월 20일 MBC M 《쇼 챔피언》 챔피언 송\\n7월 21일 Mnet 《엠카운트다운》 1위\\n\\n\\n2023년 (총 5회)\\n\\n\\nSpicy (총 4회)\\n5월 18일 Mnet 《엠카운트다운》 1위\\n5월 19일 KBS2 《뮤직뱅크》 K-Chart 1위\\n5월 20일 MBC 《쇼! 음악중심》 1위\\n5월 21일 SBS 《SBS 인기가요》 1위\\nDrama (총 1회)\\n11월 26일 SBS 《SBS 인기가요》 1위\\n\\n\\n2024년 (총 2회)\\n\\n\\nDrama (총 2회)\\n1월 7일 SBS 《SBS 인기가요》 1위 (통산 2주)\\n1월 14일 SBS 《SBS 인기가요》 1위 (트리플 크라운)\\n정규 앨범 (총 회)\\n\\n\\n\\n외부 링크[편집]' metadata={'source': 'https://ko.wikipedia.org/wiki/Aespa', 'title': 'aespa - 위키백과, 우리 모두의 백과사전', 'language': 'ko'}\n"
          ]
        }
      ]
    },
    {
      "cell_type": "code",
      "source": [
        "# page_content 속성\n",
        "splits[10].page_content"
      ],
      "metadata": {
        "colab": {
          "base_uri": "https://localhost:8080/",
          "height": 127
        },
        "id": "AUr8CBrsDkr4",
        "outputId": "ebfb8220-76a5-47b2-aad6-b4f16c55dab2"
      },
      "execution_count": 58,
      "outputs": [
        {
          "output_type": "execute_result",
          "data": {
            "text/plain": [
              "'본상\\n\\n수상\\n\\n\\n대한민국 퍼스트브랜드 대상\\n\\n여자아이돌 부문\\n\\n수상\\n\\n\\n써클차트 뮤직 어워즈\\n\\n유니크 리스너 부문 올해의 가수상\\n\\n수상\\n\\n\\n31주년 한터뮤직어워즈 2023\\n\\n글로벌 제너레이션상\\n\\n수상\\n\\n\\n베스트 트렌드 리더상\\n\\n수상\\n\\n\\n올해의 아티스트 본상\\n\\n수상\\n\\n가요 프로그램 1위[편집]\\n\\n\\n연도\\n\\n수상 내역 (총 18회)\\n\\n\\n2021년 (총 9회)\\n\\n\\nBlack Mamba (총 1회)\\n1월 17일 SBS 《SBS 인기가요》 1위\\nSavage (총 8회)\\n10월 13일 MBC M 《쇼 챔피언》 챔피언 송\\n10월 15일 KBS2 《뮤직뱅크》 K-Chart 1위\\n10월 16일 MBC 《쇼! 음악중심》 1위\\n10월 17일 SBS 《SBS 인기가요》 1위\\n10월 23일 MBC 《쇼! 음악중심》 1위 (2주 연속)\\n10월 24일 SBS 《SBS 인기가요》 1위 (2주 연속)\\n10월 26일 SBS MTV 《더 쇼》 더 쇼 초이스\\n12월 5일 SBS 《SBS 인기가요》 1위 (트리플 크라운)\\n\\n\\n2022년 (총 2회)\\n\\n\\nGirls (총 2회)\\n7월 20일 MBC M 《쇼 챔피언》 챔피언 송\\n7월 21일 Mnet 《엠카운트다운》 1위\\n\\n\\n2023년 (총 5회)\\n\\n\\nSpicy (총 4회)\\n5월 18일 Mnet 《엠카운트다운》 1위\\n5월 19일 KBS2 《뮤직뱅크》 K-Chart 1위\\n5월 20일 MBC 《쇼! 음악중심》 1위\\n5월 21일 SBS 《SBS 인기가요》 1위\\nDrama (총 1회)\\n11월 26일 SBS 《SBS 인기가요》 1위\\n\\n\\n2024년 (총 2회)\\n\\n\\nDrama (총 2회)\\n1월 7일 SBS 《SBS 인기가요》 1위 (통산 2주)\\n1월 14일 SBS 《SBS 인기가요》 1위 (트리플 크라운)\\n정규 앨범 (총 회)\\n\\n\\n\\n외부 링크[편집]'"
            ],
            "application/vnd.google.colaboratory.intrinsic+json": {
              "type": "string"
            }
          },
          "metadata": {},
          "execution_count": 58
        }
      ]
    },
    {
      "cell_type": "code",
      "source": [
        "# metadata 속성\n",
        "splits[10].metadata"
      ],
      "metadata": {
        "colab": {
          "base_uri": "https://localhost:8080/"
        },
        "id": "esQEoTB_D_rv",
        "outputId": "0e00a231-eaa3-413b-8e39-5444d2ccd8c8"
      },
      "execution_count": 59,
      "outputs": [
        {
          "output_type": "execute_result",
          "data": {
            "text/plain": [
              "{'source': 'https://ko.wikipedia.org/wiki/Aespa',\n",
              " 'title': 'aespa - 위키백과, 우리 모두의 백과사전',\n",
              " 'language': 'ko'}"
            ]
          },
          "metadata": {},
          "execution_count": 59
        }
      ]
    },
    {
      "cell_type": "markdown",
      "source": [
        "**Step 3️⃣: Indexing**"
      ],
      "metadata": {
        "id": "JzQqQ_jWEWbg"
      }
    },
    {
      "cell_type": "code",
      "source": [
        "# Indexing (Texts -> Embedding -> Store)\n",
        "from langchain_community.vectorstores import Chroma\n",
        "from langchain_openai import OpenAIEmbeddings\n",
        "\n",
        "vectorstore = Chroma.from_documents(documents=splits,\n",
        "                                    embedding=OpenAIEmbeddings())\n",
        "\n",
        "docs = vectorstore.similarity_search(\"에스파 구성원?\")\n",
        "print(len(docs))\n",
        "print(docs[0].page_content)"
      ],
      "metadata": {
        "colab": {
          "base_uri": "https://localhost:8080/"
        },
        "id": "ZoV4b9EoEbIf",
        "outputId": "606ddfdd-ee05-461a-d8cf-a0cbb8d9e703"
      },
      "execution_count": 64,
      "outputs": [
        {
          "output_type": "stream",
          "name": "stdout",
          "text": [
            "4\n",
            "aespa(에스파)는 대한민국의 4인조 다국적 걸그룹이다. SMCU[주 1] 프로젝트의 첫 주자이며, 프로젝트 내에서 독립적인 세계관으로 이야기를 펼치고 있다.\n",
            "그룹 이름인 ‘aespa’는 “Avatar X Experience”를 표현한 ‘æ’와 ‘양면’을 뜻하는 ‘aspect’를 합친 조어이며 ‘자신의 또 다른 자아인 아바타 ae를 만나며 새로운 세계를 경험하게 된다’라는 세계관을 기반으로 활동한다[1].\n",
            "팬덤명 ‘MY’는 ‘나의 소중한 친구’를 뜻하는 ‘my precious friends’에서 유래했으며, 가상세계에서 가장 소중한 존재를 나타내는 단어다.\n",
            "\n",
            "\n",
            "개요[편집]\n",
            "SM 엔터테인먼트에서 레드벨벳 이후로 6년 만의 신인 걸 그룹으로 2020년 11월 17일에 싱글 〈Black Mamba〉로 데뷔하였다. 구성원으로는 한국인 2명, 혼혈 (한/일) 1명, 중국인 1명으로 구성되어 있다\n",
            "[2]\n",
            "그룹 이름인 ‘aespa’는 “Avatar X Experience”를 표현한 ‘ æ’와 ‘양면’을 뜻하는 ‘aspect’를 합친 조어이며 ‘자신의 또 다른 자아인 아바타 ae를 만나며 새로운 세계를 경험하게 된다’라는 세계관을 기반으로 활동한다[1]. 팬덤명 ‘MY’는 영어고 ‘나의 소중한 친구’를 뜻하는 ‘my precious friends’에서 유래했으며 가상세계에서 가장 소중한 존재를 나타내는 단어이다[3].\n",
            "이 독창적인 컨셉트의 기원, 멤버들에게는 가상세계 ‘FLAT’에서 인터넷 상의 자신을 본 뜬 ‘또 다른 자신’인 아바타 ‘æ’(아이)[주 2]가 존재하고 있다. 멤버와 æ는 ‘SYNK[주 3]’를 통해서 서로를 연결할 수 있는 것 외에[1], ‘P.O.S’[주 4]라고 불리는 싱크 홀을 통하는 것으로 현실 세계과 가상 세계를 오고 가는 ‘REKALL[주 5]’을 할 수가 있다.\n",
            "FLAT의 맞은편에는 형태가 정해지지 않거나 무한의 영역인 ‘KWANGYA[주 6]'(광야, 曠野)가 펼쳐져 있다.[4]\n",
            "\n",
            "활동[편집]\n",
            "2020년 : 데뷔, 《Black Mamba》[편집]\n",
            "11월 17일, 디지털 싱글 《Black Mamba》로 데뷔했다.[5] 에스파는 SM 엔터테인먼트가 레드벨벳 이후 6년 만에 발표한 여자 그룹이기 때문에 많은 주목을 받았다.[6] 발매 후 하루 만에 앨범이 95개국의 음원차트에 진입하는 성과를 얻었다.[7] 유튜브 공개 24시간만에 2140만 조회수를 달성하여, 달라달라를 갱신한 신기록을 세웠다.[8] 11월 2주차 아이돌차트 '아차랭킹'에서 에스파는 14위로 진입했다.[9] 12월에는 걸그룹 브랜드평판 빅데이터를 분석한 결과 3위에 올랐다.[10] 이 곡은 빌보드 글로벌 100 차트에 오르면서, K팝 데뷔곡 중 최고 순위를 달성했다.[11]\n",
            "11월 21일 KBS2 뮤직뱅크에서 'Black Mamba'로 첫 무대를 선보였다.[12]\n",
            "12월 31일에는 MBC 가요대제전 'THE MOMENT'에서 공연을 펼쳤다.[13]\n",
            "하지만 데뷔 초기에 추측성 루머로 인한 과거사 논란이 퍼지면서 타격을 입었다.[6] 또 아바타를 도입했다는 사실에 대해서는 혁신적인 AI와 아바타 기술을 도입했다는 평가도,[14] 우려의 목소리도 있었다.[15]\n"
          ]
        }
      ]
    },
    {
      "cell_type": "code",
      "source": [
        "from langchain_openai import ChatOpenAI\n",
        "from langchain_core.prompts import ChatPromptTemplate\n",
        "from langchain_core.runnables import RunnablePassthrough\n",
        "from langchain_core.output_parsers import StrOutputParser\n",
        "\n",
        "# Prompt\n",
        "template = '''Answer the question based only on the following context:\n",
        "{context}\n",
        "\n",
        "Question: {question}\n",
        "'''\n",
        "\n",
        "prompt = ChatPromptTemplate.from_template(template)\n",
        "\n",
        "# LLM\n",
        "model = ChatOpenAI(model='gpt-3.5-turbo-0125', temperature=0)\n",
        "\n",
        "# Rretriever\n",
        "retriever = vectorstore.as_retriever()\n",
        "\n",
        "# Combine Documents\n",
        "def format_docs(docs):\n",
        "    return '\\n\\n'.join(doc.page_content for doc in docs)\n",
        "\n",
        "# RAG Chain 연결\n",
        "rag_chain = (\n",
        "    {'context': retriever | format_docs, 'question': RunnablePassthrough()}\n",
        "    | prompt\n",
        "    | model\n",
        "    | StrOutputParser()\n",
        ")\n",
        "\n",
        "# Chain 실행\n",
        "rag_chain.invoke(\"에스파의 뜻은 뭔가요?.\")"
      ],
      "metadata": {
        "colab": {
          "base_uri": "https://localhost:8080/",
          "height": 35
        },
        "id": "JFpWx-8qEqB9",
        "outputId": "2e10fb39-c177-458f-b7a7-5717782644e0"
      },
      "execution_count": 70,
      "outputs": [
        {
          "output_type": "execute_result",
          "data": {
            "text/plain": [
              "'에스파의 뜻은 \"Avatar X Experience\"를 표현한 \\'æ\\'와 \\'양면\\'을 뜻하는 \\'aspect\\'를 합친 조어이며 \\'자신의 또 다른 자아인 아바타 ae를 만나며 새로운 세계를 경험하게 된다\\'라는 세계관을 기반으로 활동하는 것을 의미합니다.'"
            ],
            "application/vnd.google.colaboratory.intrinsic+json": {
              "type": "string"
            }
          },
          "metadata": {},
          "execution_count": 70
        }
      ]
    }
  ]
}